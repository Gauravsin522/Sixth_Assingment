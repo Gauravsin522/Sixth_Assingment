{
 "cells": [
  {
   "cell_type": "markdown",
   "id": "897dc378-afbc-4a6a-84fa-f5f22c9ede64",
   "metadata": {},
   "source": [
    "#                                                          OOPS Assignment\n",
    "\n",
    "\n"
   ]
  },
  {
   "cell_type": "code",
   "execution_count": 19,
   "id": "c7e6f83f-6acd-42a7-84dd-e5103bf923b5",
   "metadata": {},
   "outputs": [
    {
     "name": "stdout",
     "output_type": "stream",
     "text": [
      "The greentoyota is stoping\n",
      "The greentoyota is accerlate\n"
     ]
    }
   ],
   "source": [
    "# 1. What are the five key concepts of Object-Oriented Programming (OOP)?\n",
    "\n",
    "# Answer:- The five keys concepts of Object Oriented Programming (OOP) are--\n",
    "\n",
    "# 1. class is a blueprint for creating objects.\n",
    "\n",
    "class car:\n",
    "    def __init__(self,color,modal):\n",
    "        self.color=color\n",
    "        self.modal=modal\n",
    "    \n",
    "    def drive(self):\n",
    "        print(f\"The {self.color}{self.modal} is accerlate\")\n",
    "    \n",
    "    def brake(self):\n",
    "        print(f\"The {self.color}{self.modal} is stoping\")\n"
   ]
  },
  {
   "cell_type": "code",
   "execution_count": null,
   "id": "20a49542-1c92-46c7-acf4-1549d5eeaa0b",
   "metadata": {},
   "outputs": [
    {
     "name": "stdout",
     "output_type": "stream",
     "text": [
      "The greentoyota is stoping\n",
      "The greentoyota is accerlate\n"
     ]
    }
   ],
   "source": [
    "# 2. object\n",
    "\n",
    "my__car=car('green','toyota')\n",
    "my__car.brake()\n",
    "my__car.drive()"
   ]
  },
  {
   "cell_type": "code",
   "execution_count": 17,
   "id": "ede58dff-4bd1-4c2e-b054-eafb0cc1c722",
   "metadata": {},
   "outputs": [],
   "source": [
    "# 3.Inheritance\n",
    "\n",
    "class vehicle:\n",
    "    def __init__(self,color,modal):\n",
    "        self.color=color\n",
    "        self.modal=modal\n",
    "    def drive(self):\n",
    "        print('simple car')\n",
    "        \n",
    "class car(vehicle):\n",
    "    def __init__(self,color,modal):\n",
    "        super().__init__(color,modal)\n",
    "        \n",
    "        \n",
    "a=car('red','sadan')\n",
    "\n"
   ]
  },
  {
   "cell_type": "code",
   "execution_count": 4,
   "id": "e75ee25d-79fd-4b73-b960-691f2587ffe9",
   "metadata": {},
   "outputs": [
    {
     "name": "stdout",
     "output_type": "stream",
     "text": [
      " have  couse\n",
      "gaurav have data sciense couse\n"
     ]
    }
   ],
   "source": [
    "# 4. Polymorphism\n",
    "\n",
    "class student:\n",
    "    def __init__(self,name='',course=''):\n",
    "        self.name=name\n",
    "        self.course=course\n",
    "        print(f\"{name} have {course} couse\")\n",
    "        \n",
    "stud=student()\n",
    "stud.__init__('gaurav','data sciense')"
   ]
  },
  {
   "cell_type": "code",
   "execution_count": 16,
   "id": "ef5e8045-da26-4f32-9605-4e337148d870",
   "metadata": {},
   "outputs": [
    {
     "name": "stdout",
     "output_type": "stream",
     "text": [
      "the car speed180\n",
      "the car now speed200\n"
     ]
    }
   ],
   "source": [
    "# 5. Encapsulation\n",
    "class car:\n",
    "    def __init__(self,year,speed):\n",
    "        self.__year=year\n",
    "        self.__speed=speed\n",
    "    def set_speed(self,speed):\n",
    "        self.__speed=0 if speed < 0 else speed\n",
    "    def get_speed(self):\n",
    "        return self.__speed\n",
    "    \n",
    "    \n",
    "my_car=car(2002,180)\n",
    "\n",
    "print(f\"the car speed{my_car.get_speed()}\")\n",
    "my_car.set_speed(200)\n",
    "print(f\"the car now speed{my_car.get_speed()}\")"
   ]
  },
  {
   "cell_type": "code",
   "execution_count": 25,
   "id": "0a94070f-43c0-4c47-bf68-27bfc38c7deb",
   "metadata": {},
   "outputs": [
    {
     "name": "stdout",
     "output_type": "stream",
     "text": [
      "this car is Tata , Tagor and 2001\n"
     ]
    }
   ],
   "source": [
    "# 2. Write a Python class for a `Car` with attributes for `make`, `model`, and `year`. Include a method to display the car's information.\n",
    "\n",
    "# Answer:-\n",
    "\n",
    "class Car:\n",
    "    def __init__(self,make,model,year):\n",
    "        self.make=make\n",
    "        self.model=model\n",
    "        self.year=year\n",
    "    \n",
    "    def info(self):\n",
    "        print(f\"this car is {self.make} , {self.model} and {self.year}\")\n",
    "\n",
    "Info=Car('Tata',\"Tagor\",2001)\n",
    "\n",
    "Info.info()\n",
    "\n",
    "\n"
   ]
  },
  {
   "cell_type": "code",
   "execution_count": 44,
   "id": "9aa54bcd-5f22-42c5-8001-0468ab4a02be",
   "metadata": {},
   "outputs": [
    {
     "name": "stdout",
     "output_type": "stream",
     "text": [
      "this car is Tata , Tagor and 2001\n",
      "2\n",
      "2\n",
      "Course: Mathematics\n"
     ]
    }
   ],
   "source": [
    "# 3. Explain the difference between instance methods and class methods. Provide an example of each.\n",
    "\n",
    "#Answer:The instance method are most common method use in python class.It take {self} as their first parameter.\n",
    "\n",
    "#Example:-\n",
    "\n",
    "class Car:\n",
    "    def __init__(self,make,model,year):\n",
    "        self.make=make\n",
    "        self.model=model\n",
    "        self.year=year\n",
    "    \n",
    "    def info(self):\n",
    "        print(f\"this car is {self.make} , {self.model} and {self.year}\")\n",
    "\n",
    "Info=Car('Tata',\"Tagor\",2001)\n",
    "\n",
    "Info.info()\n",
    "\n",
    "\n",
    "# Class method>> Class are use class itself rather than any particular instance.Its take {cls} as first parameter.\n",
    "\n",
    "class student:\n",
    "    total_students=0\n",
    "    def __init__(self,name):\n",
    "        self.name=name\n",
    "        student.total_students+=1\n",
    "        \n",
    "        @classmethod\n",
    "        def get_total_student(cls):\n",
    "            return cls.total_students\n",
    "        @staticmethod\n",
    "        def course_details (course_name):\n",
    "            print(\"outer\",course_name)\n",
    "\n",
    "\n",
    "stud = Student('Gaurav')\n",
    "print(stud.total_students)\n",
    "print(Student.get_total_students())\n",
    "Student.course_details(\"Mathematics\")\n"
   ]
  },
  {
   "cell_type": "code",
   "execution_count": 52,
   "id": "6902f6fc-c661-4925-b59c-9d7d0441f93a",
   "metadata": {
    "scrolled": true,
    "tags": []
   },
   "outputs": [
    {
     "name": "stdout",
     "output_type": "stream",
     "text": [
      "1\n",
      "4\n",
      "14\n"
     ]
    }
   ],
   "source": [
    "# 4. How does Python implement method overloading? Give an example. \n",
    "\n",
    "# Answer :-python does'nt support overloading.But we have using default arguments.\n",
    "\n",
    "class equation:\n",
    "    def addition(self,a,b=None,c=None):\n",
    "        if b is None and c is None:\n",
    "            return a\n",
    "        elif c is None:\n",
    "            return a+b\n",
    "        else :\n",
    "            return a+b+c\n",
    "            \n",
    "equa=equation()\n",
    "equa.addition(1)\n",
    "print(equa.addition(1))\n",
    "print(equa.addition(1,3))\n",
    "print(equa.addition(1,5,8))"
   ]
  },
  {
   "cell_type": "code",
   "execution_count": 60,
   "id": "ed2e68fe-4364-4396-88e2-82c18cc05ea6",
   "metadata": {},
   "outputs": [
    {
     "name": "stdout",
     "output_type": "stream",
     "text": [
      "pw\n"
     ]
    }
   ],
   "source": [
    "# 5. What are the three types of access modifiers in Python? How are they denoted?\n",
    "\n",
    "# Answer :- The three types of access modifiers in python.:- {PRIVATE},{PUBLIC},{PROTECTIVE}\n",
    "\n",
    "#PRIVATE AND PUBLIC\n",
    "\n",
    "class student:\n",
    "    def __init__ (self,name,date):\n",
    "        self.name=name  # THIS IS PUBLIC\n",
    "        self.__date=date #THIS IS PRIVATE\n",
    "        \n",
    "    def show(self):\n",
    "        print('name',self.name,'date',self.__date)\n",
    "\n",
    "# Protected\n",
    "\n",
    "class collage:\n",
    "    def __init__(self):\n",
    "        self._collage_name='pw'\n",
    "        \n",
    "collage_obj = collage()\n",
    "print(collage_obj._collage_name)"
   ]
  },
  {
   "cell_type": "code",
   "execution_count": 33,
   "id": "a307b0b9-5110-47e8-8b1b-85f195c01f60",
   "metadata": {},
   "outputs": [
    {
     "name": "stdout",
     "output_type": "stream",
     "text": [
      "i'm child\n",
      "basic vehicle\n",
      "car\n",
      "sport car\n",
      "father\n",
      "second\n"
     ]
    }
   ],
   "source": [
    "# 6. Describe the five types of inheritance in Python. Provide a simple example of multiple inheritance.\n",
    "\n",
    "# Answer:- The five types of inheritance in python are [SINGLE INHERITANCE],[MULTI LEVEL INHERITANCE],[MULTIPLE INHERITANCE],[HIERARCHICAL INHERITANCE] AND LAST [HYBRID INHERITANCE]\n",
    "\n",
    "# 1. SINGLE INHERITANCE :- When a derived class has only one parent.\n",
    "\n",
    "# EXAMPLE:\n",
    "\n",
    "class parent:\n",
    "    def __init__(self):\n",
    "        print(\"i'm parent\")\n",
    "class child (parent):\n",
    "    def __init__(self):\n",
    "        print(\"i'm child\")\n",
    "\n",
    "a=child()\n",
    "\n",
    "\n",
    "# 2. MULTI LEVEL :- when a derived class inherits from another derived class.\n",
    "\n",
    "class vehicle:\n",
    "    def __init__(self):\n",
    "        print('basic vehicle')\n",
    "\n",
    "class car(vehicle):\n",
    "    def __init__(self):\n",
    "        super().__init__()\n",
    "        print(\"car\")\n",
    "        \n",
    "class sportcar(car):\n",
    "    def __init__(self):\n",
    "        super().__init__()\n",
    "        print('sport car')\n",
    "\n",
    "sport=sportcar()\n",
    "        \n",
    "        \n",
    "# 3. MULTIPLE LEVEL :- When a derived class inherits from more than one parent class.\n",
    "\n",
    "class parent1:\n",
    "    def method(self):\n",
    "        print('father')\n",
    "\n",
    "class parent2:\n",
    "    def method2(self):\n",
    "        print('mother')\n",
    "        \n",
    "class child(parent1,parent2):\n",
    "    def method2(self):\n",
    "        print('child')\n",
    "\n",
    "a=child()        \n",
    "a.method()\n",
    "\n",
    "\n",
    "class vehicle:\n",
    "    def info(self,name):\n",
    "        print('first')\n",
    "         \n",
    "class car:\n",
    "    def info(self,name):\n",
    "        print('second')    \n",
    "\n",
    "class truck:\n",
    "    def info(self,name):\n",
    "        print('truck')\n",
    "        \n",
    "a=car()\n",
    "b=truck()\n",
    "a.info('a')\n",
    "\n",
    "\n",
    "# 5.HYBRID INHERITANCE:- Multiple types or combination of different inhertance.\n",
    "\n",
    "class a:\n",
    "    def method(self):\n",
    "        print('a')\n",
    "        \n",
    "class b(a):\n",
    "    def method (self):\n",
    "        print(\"b\")\n",
    "        \n",
    "class c (a):\n",
    "    def method(self):\n",
    "        print('c')\n",
    "class d (c,b):\n",
    "    pass\n",
    "\n"
   ]
  },
  {
   "cell_type": "code",
   "execution_count": 12,
   "id": "2f75cfdb-89a4-4840-bb1c-b6f5e6c0f8b9",
   "metadata": {},
   "outputs": [
    {
     "name": "stdout",
     "output_type": "stream",
     "text": [
      "inheritant from b class\n"
     ]
    }
   ],
   "source": [
    "# 7. What is the Method Resolution Order (MRO) in Python? How can you retrieve it programmatically?\n",
    "\n",
    "# Answer:- The method resolution order (MRO) in python is the sequence in python looks for method in a hierarchy of class.\n",
    "\n",
    "# EXAMPLE:-\n",
    "\n",
    "class a:\n",
    "    def method(self):\n",
    "        print('inheritant from a class')\n",
    "        \n",
    "        \n",
    "class b:\n",
    "    def method(self):\n",
    "        print('inheritant from b class')\n",
    "\n",
    "class c(b,a): # in this case c was print\n",
    "    def last(self):\n",
    "        pass\n",
    "call=c()\n",
    "call.method()"
   ]
  },
  {
   "cell_type": "code",
   "execution_count": 16,
   "id": "aceddb2f-e2d3-4c75-9f36-3043caa8f6fc",
   "metadata": {},
   "outputs": [
    {
     "name": "stdout",
     "output_type": "stream",
     "text": [
      " circle 14102.609421964582\n",
      " ractangle 782\n"
     ]
    }
   ],
   "source": [
    "# 8. Create an abstract base class `Shape` with an abstract method `area()`. Then create two subclasses `Circle` and `Rectangle` that implement the `area()` method\n",
    "\n",
    "#Answer:-\n",
    "\n",
    "from abc import ABC, abstractmethod\n",
    "import math\n",
    "\n",
    "class shape(ABC):\n",
    "    @abstractmethod\n",
    "    def area (self):\n",
    "        pass\n",
    "# sub class(CIRCLE)\n",
    "\n",
    "class circle(shape):\n",
    "    def __init__ (self,radius):\n",
    "        self.radius=radius\n",
    "        \n",
    "    def area(self):\n",
    "        return math.pi * self.radius ** 2\n",
    "    \n",
    "# sub class(RACTANGLE)\n",
    "\n",
    "class ractangle(shape):\n",
    "    def __init__(self,width,lenth):\n",
    "        self.width=width\n",
    "        self.lenth=lenth\n",
    "        \n",
    "    def area(self):\n",
    "        return self.lenth*self.width\n",
    "    \n",
    "    \n",
    "Circle=circle(67)\n",
    "Ractangle=ractangle(23,34)\n",
    "        \n",
    "print(f\" circle {Circle.area()}\")\n",
    "print(f\" ractangle {Ractangle.area()}\")"
   ]
  },
  {
   "cell_type": "code",
   "execution_count": 29,
   "id": "14a7aee6-60b8-4457-b6e6-c9f89a307982",
   "metadata": {},
   "outputs": [
    {
     "name": "stdout",
     "output_type": "stream",
     "text": [
      "Area: 1049555.8400818924\n",
      "Area: 2740617\n"
     ]
    }
   ],
   "source": [
    "# 9. Demonstrate polymorphism by creating a function that can work with different shape objects to calculate and print their areas.\n",
    "\n",
    "#Answer:-\n",
    "\n",
    "# demonstrate polymorphism\n",
    "def print_area(shape):\n",
    "    print(f\"Area: {shape.area()}\")\n",
    "\n",
    "Circle = circle(578)\n",
    "rectangle = Rectangle(423, 6479)\n",
    "\n",
    "print_area(Circle)\n",
    "print_area(rectangle)\n"
   ]
  },
  {
   "cell_type": "code",
   "execution_count": 46,
   "id": "25e1a526-3c36-47a0-9ac2-dc88b7f508c2",
   "metadata": {},
   "outputs": [
    {
     "name": "stdout",
     "output_type": "stream",
     "text": [
      " balance : 105000\n"
     ]
    }
   ],
   "source": [
    "# 10. Implement encapsulation in a `BankAccount` class with private attributes for `balance` and `account_number`. Include methods for deposit, withdrawal, and balance inquiry.\n",
    "\n",
    "# Answer:-\n",
    "\n",
    "class BankAccount:\n",
    "    def __init__(self,acc_number,balance=0):\n",
    "        self.__acc_number=acc_number\n",
    "        self.__balance=balance\n",
    "        \n",
    "    def deposit(self,amount):\n",
    "        if amount>0:\n",
    "            self.__balance+=amount\n",
    "        else:\n",
    "            print('please insert value')\n",
    "            \n",
    "            \n",
    "               \n",
    "    def withdraw(self,amoumt):\n",
    "        if 0<amoumt<=self.__balance:\n",
    "            self.__balance-=amoumt\n",
    "           \n",
    "            return True\n",
    "            \n",
    "        else:\n",
    "            print('gareeb')\n",
    "            return False\n",
    "        \n",
    "    def get_balance(self):\n",
    "        return self.__balance\n",
    "account=BankAccount(123456789,100000)\n",
    "account.deposit(5000)\n",
    "print(f\" balance : {account.get_balance()}\")\n"
   ]
  },
  {
   "cell_type": "code",
   "execution_count": 12,
   "id": "28736d3b-bbd0-4213-913b-9dcf969f3aea",
   "metadata": {},
   "outputs": [
    {
     "name": "stdout",
     "output_type": "stream",
     "text": [
      "the number 12323\n",
      "the number 12\n"
     ]
    }
   ],
   "source": [
    "# 11. Write a class that overrides the `__str__` and `__add__` magic methods. What will these methods allow you to do.\n",
    "\n",
    "# Answer:-\n",
    "\n",
    "class Number:\n",
    "    def __init__(self,value):\n",
    "        self.value=value\n",
    "        \n",
    "    # overriding the {__str__} method.\n",
    "    def __str__(self):\n",
    "        return f\"the number {self.value}\"\n",
    "    \n",
    "    # overriding the {__add__} method.\n",
    "    def __add__(self,other):\n",
    "        return Number(self.value+other.value)\n",
    "    \n",
    "num1=Number(12323)\n",
    "num2=Number(12)\n",
    "print(num1)\n",
    "result= num1+num2\n",
    "print(num2)"
   ]
  },
  {
   "cell_type": "code",
   "execution_count": 39,
   "id": "07d6edac-be9d-4684-bd41-a18541d45a32",
   "metadata": {},
   "outputs": [
    {
     "name": "stdout",
     "output_type": "stream",
     "text": [
      "execution time: 2.002063\n"
     ]
    }
   ],
   "source": [
    "# 12. Create a decorator that measures and prints the execution time of a function.\n",
    "\n",
    "# Answer:-\n",
    "\n",
    "import time\n",
    "\n",
    "def measure_time(func):\n",
    "    def wrapper():\n",
    "        start_time=time.time()# record start time\n",
    "        func()\n",
    "        end_time=time.time()# record end time\n",
    "        print (f\"execution time: {end_time-start_time:.6f}\")\n",
    "    return wrapper\n",
    "# using decorator\n",
    "@measure_time\n",
    "def new_func():\n",
    "    time.sleep(2)\n",
    "    \n",
    "new_func()\n",
    "\n"
   ]
  },
  {
   "cell_type": "code",
   "execution_count": 44,
   "id": "2ddfbd9c-dcff-4f3d-be70-36ae664b9b52",
   "metadata": {},
   "outputs": [],
   "source": [
    "# 13. Explain the concept of the Diamond Problem in multiple inheritance. How does Python resolve it?\n",
    "\n",
    "#Answer:-Diamond problem its occur when a class inherits from 2 or more 2 class ,which will lead to ambiguity in execution of methogs.\n",
    "\n",
    "class A:\n",
    "    def method(self):\n",
    "        print(\"A\")\n",
    "\n",
    "class B(A):\n",
    "    def method(self):\n",
    "        print(\"B\")\n",
    "    \n",
    "class C(A):\n",
    "    def method(self):\n",
    "        print(\"c\")\n",
    "class D(C,B):\n",
    "    pass\n",
    "\n",
    "# To resolve diamond problem python uses method resolution order(MRO) algorithm called C3 Linearization.\n",
    "    "
   ]
  },
  {
   "cell_type": "code",
   "execution_count": 50,
   "id": "d0a8d82a-a94a-4a07-bfc3-cc960aa730ae",
   "metadata": {},
   "outputs": [
    {
     "name": "stdout",
     "output_type": "stream",
     "text": [
      "3\n"
     ]
    }
   ],
   "source": [
    "# 14. Write a class method that keeps track of the number of instances created from a class.\n",
    "\n",
    "# Answer:-\n",
    "\n",
    "class myclass():\n",
    "    instances_count=0\n",
    "    \n",
    "    def __init__(self):\n",
    "        myclass.instances_count+=1\n",
    "        \n",
    "    @classmethod\n",
    "    def get_count(cls):\n",
    "        return cls.instances_count\n",
    "\n",
    "\n",
    "one=myclass()\n",
    "two=myclass()\n",
    "three=myclass()\n",
    "\n",
    "\n",
    "print(myclass.get_count())\n",
    "\n"
   ]
  },
  {
   "cell_type": "code",
   "execution_count": 61,
   "id": "92330ac5-e044-46c3-8682-22f232497410",
   "metadata": {},
   "outputs": [
    {
     "name": "stdout",
     "output_type": "stream",
     "text": [
      "True\n"
     ]
    }
   ],
   "source": [
    "# 15. Implement a static method in a class that checks if a given year is a leap year.\n",
    "class yearchecker:\n",
    "    @staticmethod\n",
    "    def is_leadyear(year):\n",
    "        if(year%4==0 and year %100!=0) or (year%400==0):\n",
    "            return True\n",
    "        else:\n",
    "            False\n",
    "print(yearchecker.is_leadyear(2004))"
   ]
  },
  {
   "cell_type": "code",
   "execution_count": null,
   "id": "4989bff6-ad6c-4cd2-8c00-048a77233a70",
   "metadata": {},
   "outputs": [],
   "source": []
  }
 ],
 "metadata": {
  "kernelspec": {
   "display_name": "Python 3 (ipykernel)",
   "language": "python",
   "name": "python3"
  },
  "language_info": {
   "codemirror_mode": {
    "name": "ipython",
    "version": 3
   },
   "file_extension": ".py",
   "mimetype": "text/x-python",
   "name": "python",
   "nbconvert_exporter": "python",
   "pygments_lexer": "ipython3",
   "version": "3.10.8"
  }
 },
 "nbformat": 4,
 "nbformat_minor": 5
}
